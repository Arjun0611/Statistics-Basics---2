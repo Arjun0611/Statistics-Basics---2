{
 "cells": [
  {
   "cell_type": "code",
   "execution_count": 1,
   "id": "b7c7d5d6-5344-4aba-8c74-2a6032886a2b",
   "metadata": {},
   "outputs": [],
   "source": [
    "#Q1.\n",
    "\n",
    "# The three measures of central tendency are:\n",
    "\n",
    "# Mean: The avg. of all values.\n",
    "# Median: The middle value when data is ordered.\n",
    "# Mode: The most frequent value in the dataset."
   ]
  },
  {
   "cell_type": "code",
   "execution_count": 2,
   "id": "f8bff308-fbcf-43bf-9609-b9c764b7a427",
   "metadata": {},
   "outputs": [],
   "source": [
    "#Q2.\n",
    "\n",
    "# Mean: The avg. value, sensitive to outliers.\n",
    "# Median: The middle value, less affected by outliers.\n",
    "# Mode: The most frequent value, used to identify common values."
   ]
  },
  {
   "cell_type": "code",
   "execution_count": 5,
   "id": "35c0c59d-0e6f-4072-923a-30bd381a17a4",
   "metadata": {},
   "outputs": [],
   "source": [
    "#Q3.\n",
    "\n",
    "Height_Data = [178,177,176,177,178.2,178,175,179,180,175,178.9,176.2,177,172.5,178,176.5]"
   ]
  },
  {
   "cell_type": "code",
   "execution_count": 6,
   "id": "6b22c001-4741-4c2e-a470-9c552e09c6fc",
   "metadata": {},
   "outputs": [],
   "source": [
    "import numpy as np"
   ]
  },
  {
   "cell_type": "code",
   "execution_count": 9,
   "id": "9be0b02d-5635-48dc-9362-f6d23ce12bfd",
   "metadata": {},
   "outputs": [],
   "source": [
    "from scipy import stats"
   ]
  },
  {
   "cell_type": "code",
   "execution_count": 10,
   "id": "8da2105c-6c86-4612-943d-18d6ed9cc315",
   "metadata": {},
   "outputs": [],
   "source": [
    "mean_height = np.mean(Height_Data)"
   ]
  },
  {
   "cell_type": "code",
   "execution_count": 11,
   "id": "faaed79f-0f52-4212-a806-a39598df4db8",
   "metadata": {},
   "outputs": [],
   "source": [
    "median_height = np.median(Height_Data)"
   ]
  },
  {
   "cell_type": "code",
   "execution_count": 12,
   "id": "c5a0e857-ab1e-4810-a648-5b98b8b5e40f",
   "metadata": {},
   "outputs": [
    {
     "name": "stderr",
     "output_type": "stream",
     "text": [
      "/tmp/ipykernel_125/2501663017.py:1: FutureWarning: Unlike other reduction functions (e.g. `skew`, `kurtosis`), the default behavior of `mode` typically preserves the axis it acts along. In SciPy 1.11.0, this behavior will change: the default value of `keepdims` will become False, the `axis` over which the statistic is taken will be eliminated, and the value None will no longer be accepted. Set `keepdims` to True or False to avoid this warning.\n",
      "  mode_height = stats.mode(Height_Data)\n"
     ]
    }
   ],
   "source": [
    "mode_height = stats.mode(Height_Data)"
   ]
  },
  {
   "cell_type": "code",
   "execution_count": 13,
   "id": "20ccfa56-83e3-4449-a2e5-59186f654877",
   "metadata": {},
   "outputs": [
    {
     "data": {
      "text/plain": [
       "177.01875"
      ]
     },
     "execution_count": 13,
     "metadata": {},
     "output_type": "execute_result"
    }
   ],
   "source": [
    "mean_height"
   ]
  },
  {
   "cell_type": "code",
   "execution_count": 14,
   "id": "9d1fa515-2c2d-4ad5-b98a-f8eb49199947",
   "metadata": {},
   "outputs": [
    {
     "data": {
      "text/plain": [
       "177.0"
      ]
     },
     "execution_count": 14,
     "metadata": {},
     "output_type": "execute_result"
    }
   ],
   "source": [
    "median_height"
   ]
  },
  {
   "cell_type": "code",
   "execution_count": 15,
   "id": "7f324a02-8d5f-4520-b7b7-fd2b9eb61cb7",
   "metadata": {},
   "outputs": [
    {
     "data": {
      "text/plain": [
       "ModeResult(mode=array([177.]), count=array([3]))"
      ]
     },
     "execution_count": 15,
     "metadata": {},
     "output_type": "execute_result"
    }
   ],
   "source": [
    "mode_height"
   ]
  },
  {
   "cell_type": "code",
   "execution_count": 16,
   "id": "064d40b2-0117-46f1-8b40-fe74f96c21f3",
   "metadata": {},
   "outputs": [],
   "source": [
    "#Q4.\n",
    "\n",
    "sample_data = [178,177,176,177,178.2,178,175,179,180,175,178.9,176.2,177,172.5,178,176.5]"
   ]
  },
  {
   "cell_type": "code",
   "execution_count": 17,
   "id": "61ab6b6b-bfb2-4738-a0b6-3cb312c71125",
   "metadata": {},
   "outputs": [],
   "source": [
    "std_sample_data = np.std(sample_data)"
   ]
  },
  {
   "cell_type": "code",
   "execution_count": 18,
   "id": "1183fc79-87c5-4be1-af29-44647f815fdb",
   "metadata": {},
   "outputs": [
    {
     "data": {
      "text/plain": [
       "1.7885814036548633"
      ]
     },
     "execution_count": 18,
     "metadata": {},
     "output_type": "execute_result"
    }
   ],
   "source": [
    "std_sample_data"
   ]
  },
  {
   "cell_type": "code",
   "execution_count": 19,
   "id": "f67d9950-25a2-4c94-b2c6-faad795b3ce5",
   "metadata": {},
   "outputs": [],
   "source": [
    "#Q5.\n",
    "\n",
    "# Range: \n",
    "# Def - It is the difference b/w the max. and min. values in a dataset.\n",
    "# Use - Provides a simple measure of the total spread of the data.\n",
    "# Example - In a test scores dataset, the range could be used to determine the difference b/w the highest and lowest scores, indicating how much the scores vary.\n",
    "\n",
    "# Variance:\n",
    "# Def - It calculates the avg. of the squared differences b/w each data point and the mean.\n",
    "# Use - Quantifies how much individual data points deviate from the mean on average.\n",
    "# Example - In a dataset of daily temperatures, variance measures how much daily temperatures typically deviate from the average temperature.\n",
    "\n",
    "# Standard Deviation:\n",
    "# Def - It is the square root of the variance.\n",
    "# Use - Represents the avg. amount of deviation or dispersion of data points from the mean.\n",
    "# Example - In a stock price dataset, a low standard deviation indicates that the prices tend to be close to the mean, while a high standard deviation suggests that prices vary significantly."
   ]
  },
  {
   "cell_type": "code",
   "execution_count": 20,
   "id": "6ccf724e-a547-45ea-8224-692bce9a423c",
   "metadata": {},
   "outputs": [],
   "source": [
    "#Q6.\n",
    "\n",
    "# Venn diagram illustrate the relationships b/w sets.\n",
    "# Its overlapping circles show relationships and commonalities b/w sets."
   ]
  },
  {
   "cell_type": "code",
   "execution_count": 22,
   "id": "6e8de004-374d-42b0-a186-b2eccd00e379",
   "metadata": {},
   "outputs": [],
   "source": [
    "#Q7.\n",
    "\n",
    "A = {2, 3, 4, 5, 6, 7}\n",
    "B = {0, 2, 6, 8, 10}\n",
    "\n",
    "intersection = A.intersection(B)\n",
    "\n",
    "union = A.union(B)"
   ]
  },
  {
   "cell_type": "code",
   "execution_count": 23,
   "id": "ae204dc1-a366-429e-98e0-a59574f08460",
   "metadata": {},
   "outputs": [
    {
     "data": {
      "text/plain": [
       "{2, 6}"
      ]
     },
     "execution_count": 23,
     "metadata": {},
     "output_type": "execute_result"
    }
   ],
   "source": [
    "intersection"
   ]
  },
  {
   "cell_type": "code",
   "execution_count": 24,
   "id": "5efb206b-4404-4ced-beed-8e8145ef736d",
   "metadata": {},
   "outputs": [
    {
     "data": {
      "text/plain": [
       "{0, 2, 3, 4, 5, 6, 7, 8, 10}"
      ]
     },
     "execution_count": 24,
     "metadata": {},
     "output_type": "execute_result"
    }
   ],
   "source": [
    "union"
   ]
  },
  {
   "cell_type": "code",
   "execution_count": 25,
   "id": "6c4fc0e6-c431-4201-a219-221cad093271",
   "metadata": {},
   "outputs": [],
   "source": [
    "#Q8.\n",
    "\n",
    "# Skewness in data measures asymmetry.\n",
    "# It impacts data analysis and requires consideration for accurate interpretations."
   ]
  },
  {
   "cell_type": "code",
   "execution_count": 26,
   "id": "04a58538-cbb2-426c-8234-cfa48bb5c4e1",
   "metadata": {},
   "outputs": [],
   "source": [
    "# Positive Skew: Right-skewed; data has a long right tail, mean > median > mode\n",
    "# Negative Skew: Left-skewed; data has a long left tail, mean < median < mode\n",
    "# No Skew(Symmetrical): Data is evenly distributed, mean = median"
   ]
  },
  {
   "cell_type": "code",
   "execution_count": 27,
   "id": "090ee2c2-bd18-4cab-844d-62bb1453d8dc",
   "metadata": {},
   "outputs": [],
   "source": [
    "#Q9.\n",
    "\n",
    "# In a right-skewed distribution, the median will be positioned to the left of the mean."
   ]
  },
  {
   "cell_type": "code",
   "execution_count": 28,
   "id": "bf912e07-4de1-46c2-a17e-b2518b257f3d",
   "metadata": {},
   "outputs": [],
   "source": [
    "#Q10.\n",
    "\n",
    "# Covariance: Measures the direction of the relationship b/w two variables; can be positive or negative.\n",
    "\n",
    "# Correlation: Measures the strength and direction of the linear relationship b/w two variables; ranges from -1 to +1, with 0 indicating no relationship.\n",
    "\n",
    "# It is used for standardized comparisons in statistical analysis."
   ]
  },
  {
   "cell_type": "code",
   "execution_count": 29,
   "id": "91729841-fed9-4ab6-a5b9-28e15be68942",
   "metadata": {},
   "outputs": [],
   "source": [
    "#Q11.\n",
    "\n",
    "# Formula for calculating sample mean is:\n",
    "\n",
    "# Sample Mean = (Sum of all data points) / (Total number of data points)\n",
    "\n",
    "data = [12, 15, 18, 22, 26]\n"
   ]
  },
  {
   "cell_type": "code",
   "execution_count": 30,
   "id": "2270635b-c7f7-4c33-b4a0-d472494ebe5e",
   "metadata": {},
   "outputs": [],
   "source": [
    "sample_mean = np.mean(data)"
   ]
  },
  {
   "cell_type": "code",
   "execution_count": 31,
   "id": "3cae09e0-c058-4488-a98a-a987b32dfbff",
   "metadata": {},
   "outputs": [
    {
     "data": {
      "text/plain": [
       "18.6"
      ]
     },
     "execution_count": 31,
     "metadata": {},
     "output_type": "execute_result"
    }
   ],
   "source": [
    "sample_mean"
   ]
  },
  {
   "cell_type": "code",
   "execution_count": 32,
   "id": "8ee80a8d-c801-481a-b582-0b32e0d04556",
   "metadata": {},
   "outputs": [],
   "source": [
    "#Q12.\n",
    "\n",
    "# For a normal distribution:\n",
    "\n",
    "# Mean, Median, and Mode are all equal.\n",
    "# They are located at the center of the distribution."
   ]
  },
  {
   "cell_type": "code",
   "execution_count": 33,
   "id": "b0dab64c-02dd-4403-bc0e-73f13d09b6dc",
   "metadata": {},
   "outputs": [],
   "source": [
    "#Q13.\n",
    "\n",
    "# Covariance measures the direction of the linear relationship b/w two variables and can be +ve or -ve, while correlation measures the strength and direction of the linear relantionship and is standardized, ranging from -1 to +1."
   ]
  },
  {
   "cell_type": "code",
   "execution_count": 34,
   "id": "904ee155-fbaf-4ab4-a514-f928e56a40b9",
   "metadata": {},
   "outputs": [],
   "source": [
    "#Q14.\n",
    "\n",
    "# Outliers can distort the mean but have less impact on the median, making the median a robust measure of central tendency.\n",
    "\n",
    "# It can impact the measures of dispersion in the following ways.\n",
    "\n",
    "# Range: It can dramatically affect the range because it's based on the difference between the mazimum and minimum values.\n",
    "# Variance/Standard Devaition: Outliers can increase the variance and standard deviation since they contribute to larger squared differences from the mean.\n",
    "# Interquartile range: IQR is less sensitive to outliers as it focuses on the middle 50% of the data."
   ]
  },
  {
   "cell_type": "code",
   "execution_count": 35,
   "id": "ff61e1d3-d95d-4a5e-a362-df65ff6328f2",
   "metadata": {},
   "outputs": [],
   "source": [
    "#Ex.\n",
    "\n",
    "scores = np.array([75, 82, 85, 88, 90, 95, 42])"
   ]
  },
  {
   "cell_type": "code",
   "execution_count": 41,
   "id": "0548e6fe-9c91-48d2-a9f7-996f60d33aa2",
   "metadata": {},
   "outputs": [
    {
     "name": "stdout",
     "output_type": "stream",
     "text": [
      "Dataset: [75 82 85 88 90 95 42]\n",
      "Mean Score: 79.57142857142857\n",
      "Median Score: 85.0\n",
      "Score Range: 53\n",
      "Variance of Scores: 314.2857142857143\n",
      "Standard Deviation of Scores: 17.728105208558365\n"
     ]
    }
   ],
   "source": [
    "mean_score = np.mean(scores)\n",
    "median_score = np.median(scores)\n",
    "score_range = np.ptp(scores)\n",
    "variance_score = np.var(scores, ddof=1)\n",
    "std_deviation_score = np.std(scores, ddof=1)\n",
    "\n",
    "print(\"Dataset:\", scores)\n",
    "print(\"Mean Score:\", mean_score)\n",
    "print(\"Median Score:\", median_score)\n",
    "print(\"Score Range:\", score_range)\n",
    "print(\"Variance of Scores:\", variance_score)\n",
    "print(\"Standard Deviation of Scores:\", std_deviation_score)"
   ]
  },
  {
   "cell_type": "code",
   "execution_count": 42,
   "id": "45625e86-5e3e-40f6-9e5d-8c499da5a45d",
   "metadata": {},
   "outputs": [],
   "source": [
    "# Here, outlier significantly affects the mean, range, variance, and standard deviation, while the median remains robust as a measure of central tendency."
   ]
  },
  {
   "cell_type": "code",
   "execution_count": 43,
   "id": "55a45e17-a191-49d9-ae89-5da0b745b7c5",
   "metadata": {},
   "outputs": [],
   "source": [
    "# End"
   ]
  },
  {
   "cell_type": "code",
   "execution_count": 44,
   "id": "020a27af-d2a9-4f97-adcd-aa27f408476a",
   "metadata": {},
   "outputs": [],
   "source": [
    "# End"
   ]
  },
  {
   "cell_type": "code",
   "execution_count": 45,
   "id": "4910406e-097a-48d5-b750-387c4012e3a4",
   "metadata": {},
   "outputs": [],
   "source": [
    "#End"
   ]
  },
  {
   "cell_type": "code",
   "execution_count": null,
   "id": "0bc1be7f-3c44-485a-8474-2c0e142d0736",
   "metadata": {},
   "outputs": [],
   "source": []
  }
 ],
 "metadata": {
  "kernelspec": {
   "display_name": "Python 3 (ipykernel)",
   "language": "python",
   "name": "python3"
  },
  "language_info": {
   "codemirror_mode": {
    "name": "ipython",
    "version": 3
   },
   "file_extension": ".py",
   "mimetype": "text/x-python",
   "name": "python",
   "nbconvert_exporter": "python",
   "pygments_lexer": "ipython3",
   "version": "3.10.8"
  }
 },
 "nbformat": 4,
 "nbformat_minor": 5
}
